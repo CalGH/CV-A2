{
 "cells": [
  {
   "cell_type": "code",
   "execution_count": 4,
   "id": "d89928aa",
   "metadata": {},
   "outputs": [
    {
     "name": "stdout",
     "output_type": "stream",
     "text": [
      "Mean Absolute Error: 65031.550035085296\n",
      "Mean Squared Error: 5522661220.23041\n",
      "Root Mean Squared Error: 74314.6097361105\n",
      "Mean Absolute Percentage Error: 0.20936059505798266\n",
      "          Coefficient\n",
      "size     98118.082521\n",
      "bedroom -18857.691415\n",
      "\n",
      "\n",
      "Mean Absolute Error: 64764.937210124175\n",
      "Mean Squared Error: 5479192045.720111\n",
      "Root Mean Squared Error: 74021.56473434017\n",
      "Mean Absolute Percentage Error: 0.2081508918295087\n",
      "          Coefficient\n",
      "size     97673.681584\n",
      "bedroom -18327.928601\n"
     ]
    }
   ],
   "source": [
    "import pandas as pd\n",
    "import numpy as np\n",
    "from sklearn.linear_model import LinearRegression, SGDRegressor\n",
    "from sklearn.preprocessing import StandardScaler\n",
    "from sklearn.metrics import root_mean_squared_error, r2_score, mean_squared_error, mean_absolute_error, mean_absolute_percentage_error\n",
    "from sklearn.model_selection import train_test_split\n",
    "import matplotlib.pyplot as plt\n",
    "\n",
    "#DATA\n",
    "\n",
    "df = pd.read_csv(\"./house_price.csv\")\n",
    "X = df[['size', 'bedroom']]\n",
    "y = df['price']\n",
    "\n",
    "X_train, X_test, y_train, y_test = train_test_split(X, y, test_size=0.2, random_state=1234)\n",
    "\n",
    "sc = StandardScaler()\n",
    "X_train = sc.fit_transform(X_train)\n",
    "X_test = sc.transform(X_test)\n",
    "\n",
    "# Linear Regression\n",
    "\n",
    "#MODEL\n",
    "lin_regressor = LinearRegression()\n",
    "lin_regressor.fit(X_train, y_train)\n",
    "y_pred = lin_regressor.predict(X_test)\n",
    "print('Mean Absolute Error:', mean_absolute_error(y_test, y_pred))\n",
    "print('Mean Squared Error:', mean_squared_error(y_test, y_pred))\n",
    "print('Root Mean Squared Error:', root_mean_squared_error(y_test, y_pred))\n",
    "print('Mean Absolute Percentage Error:', mean_absolute_percentage_error(y_test, y_pred))\n",
    "coeff_df = pd.DataFrame(lin_regressor.coef_, X.columns, columns=['Coefficient'])\n",
    "print(coeff_df)\n",
    "\n",
    "\n",
    "# Gradient Descent\n",
    "print('\\n')\n",
    "\n",
    "#MODEL\n",
    "sgd_regressor = SGDRegressor()\n",
    "sgd_regressor.fit(X_train, y_train)\n",
    "y_pred = sgd_regressor.predict(X_test)\n",
    "print('Mean Absolute Error:', mean_absolute_error(y_test, y_pred))\n",
    "print('Mean Squared Error:', mean_squared_error(y_test, y_pred))\n",
    "print('Root Mean Squared Error:', root_mean_squared_error(y_test, y_pred))\n",
    "print('Mean Absolute Percentage Error:', mean_absolute_percentage_error(y_test, y_pred))\n",
    "coeff_df = pd.DataFrame(sgd_regressor.coef_, X.columns, columns=['Coefficient'])\n",
    "print(coeff_df)"
   ]
  },
  {
   "cell_type": "code",
   "execution_count": null,
   "id": "9669d7b4",
   "metadata": {},
   "outputs": [],
   "source": []
  }
 ],
 "metadata": {
  "kernelspec": {
   "display_name": "Python 3",
   "language": "python",
   "name": "python3"
  },
  "language_info": {
   "codemirror_mode": {
    "name": "ipython",
    "version": 3
   },
   "file_extension": ".py",
   "mimetype": "text/x-python",
   "name": "python",
   "nbconvert_exporter": "python",
   "pygments_lexer": "ipython3",
   "version": "3.12.11"
  }
 },
 "nbformat": 4,
 "nbformat_minor": 5
}
